{
 "cells": [
  {
   "cell_type": "code",
   "execution_count": null,
   "id": "933cc796",
   "metadata": {},
   "outputs": [],
   "source": [
    "import requests\n",
    "from bs4 import BeautifulSoup\n",
    "import os\n",
    "import re\n",
    "import lyricsgenius\n",
    "import pandas as pd\n",
    "from tqdm import tqdm"
   ]
  },
  {
   "cell_type": "code",
   "execution_count": null,
   "id": "e474ff18",
   "metadata": {},
   "outputs": [],
   "source": [
    "from secrets import *\n",
    "genius = lyricsgenius.Genius(GENIUS_ACCESS_TOKEN)\n",
    "\n",
    "genius.verbose = False # Turn off status messages\n",
    "genius.remove_section_headers = True # Remove section headers (e.g. [Chorus]) from lyrics when searching\n",
    "genius.skip_non_songs = False # Include hits thought to be non-songs (e.g. track lists)\n",
    "genius.excluded_terms = [\"(Remix)\", \"(Live)\", \"Remix\"] # Exclude songs with these words in their title"
   ]
  },
  {
   "cell_type": "markdown",
   "id": "25b0a6c3",
   "metadata": {},
   "source": [
    "### Preprocess"
   ]
  },
  {
   "cell_type": "code",
   "execution_count": null,
   "id": "e8d4b7b4",
   "metadata": {},
   "outputs": [],
   "source": [
    "import os\n",
    "cwd = os.getcwd()\n",
    "file_name = \"data/MacMiller_AD.csv\"\n",
    "file_path = os.path.join(cwd, file_name)"
   ]
  },
  {
   "cell_type": "code",
   "execution_count": null,
   "id": "0f7e2875",
   "metadata": {},
   "outputs": [],
   "source": [
    "if not os.path.isfile(file_path):\n",
    "    artists = ['Mac Miller']\n",
    "    artist_df = pd.DataFrame()\n",
    "    albums = ['Blue Slide Park', 'Watching Movies with the Sound Off', 'Faces',\n",
    "             'GO:OD AM', 'The Divine Feminine', 'Swimming', 'Circles',\n",
    "             'K.I.D.S.', 'Best Day Ever', 'I Love Life, Thank You', 'Macadelic', 'Delusional Thomas',\n",
    "             'You'] #'Live from Space',\n",
    "\n",
    "    for album_name in tqdm(albums):\n",
    "\n",
    "        if album_name not in ['You', 'Delusional Thomas']:\n",
    "            album = genius.search_album(album_name, artists[0])\n",
    "        elif album_name == 'You':\n",
    "            album = genius.search_album(album_name, 'Larry Lovestein & The Velvet Revival')\n",
    "        elif album_name == 'Delusional Thomas':\n",
    "            album = genius.search_album(album_name, 'Delusional Thomas')\n",
    "        assert len(album.tracks) != 0, 'Empty album'\n",
    "\n",
    "        d = []\n",
    "        i=0\n",
    "        for i in range (len(album.tracks)):\n",
    "            if \"remix\" in album.tracks[i].song.title.lower():\n",
    "                break\n",
    "            else:\n",
    "                d.append(\n",
    "                    {\n",
    "                        'artist': (album.tracks[i].song.artist),\n",
    "                        'album': (album.name),\n",
    "                        'release_date' : (album.release_date_components.strftime('%Y-%m-%d')),\n",
    "                        'track_no' : (album.tracks[i].number),\n",
    "                        'title': (album.tracks[i].song.title),\n",
    "                        'lyrics': (album.tracks[i].song.lyrics),\n",
    "                        'art': (album.cover_art_url),\n",
    "                        'url': (album.tracks[0].song.url)\n",
    "                    }\n",
    "                )\n",
    "\n",
    "        album_df = pd.DataFrame(d)\n",
    "        album_df['lyrics'] = album_df['lyrics'].replace(to_replace ='\\[.*?\\]', value = '', regex = True)\n",
    "        album_df['lyrics'] = album_df['lyrics'].replace(to_replace =r'^.*?Lyrics', value = '', regex = True)\n",
    "        album_df['lyrics'] = album_df['lyrics'].replace(to_replace = r'\\d{2}Embed$', value = '', regex = True)\n",
    "        album_df['lyrics'] = album_df['lyrics'].replace(to_replace = r'\\d{1}Embed$', value = '', regex = True)\n",
    "        album_df['track_no'] = album_df['track_no'].astype(int)\n",
    "\n",
    "        artist_df = pd.concat([artist_df, album_df]).reset_index(drop=True)\n",
    "        assert artist_df[artist_df['lyrics'].isna()].shape[0] == 0\n",
    "\n",
    "    artist_df = artist_df[~artist_df['title'].str.contains('live|remix', case=False)].reset_index(drop=True)\n",
    "    artist_df = artist_df.sort_values(by=['release_date','track_no']).reset_index(drop=True)\n",
    "    artist_df.to_csv(\"data/MacMiller_AD.csv\", index=False)"
   ]
  },
  {
   "cell_type": "markdown",
   "id": "d012b4b8",
   "metadata": {},
   "source": [
    "### Init Analysis"
   ]
  },
  {
   "cell_type": "code",
   "execution_count": null,
   "id": "6beae030",
   "metadata": {},
   "outputs": [],
   "source": [
    "import pandas as pd\n",
    "import os\n",
    "from nltk.corpus import stopwords\n",
    "from textblob import TextBlob\n",
    "from textblob import Word\n",
    "from vaderSentiment.vaderSentiment import SentimentIntensityAnalyzer\n",
    "pd.options.display.max_colwidth = 17\n",
    "\n",
    "analyzer = SentimentIntensityAnalyzer()"
   ]
  },
  {
   "cell_type": "code",
   "execution_count": null,
   "id": "a1cbee0a",
   "metadata": {},
   "outputs": [],
   "source": [
    "artist_df = pd.read_csv(\"data/MacMiller_AD.csv\")\n",
    "mac = artist_df.copy()\n",
    "mac['lyrics'] = mac['lyrics'].astype(str)\n",
    "mac['lyrics'] = mac['lyrics'].replace('\\n', ' ')"
   ]
  },
  {
   "cell_type": "code",
   "execution_count": null,
   "id": "ad39dd91",
   "metadata": {},
   "outputs": [],
   "source": [
    "# 2) Basic Pre-Processing\n",
    "mac['polarity'] = mac['lyrics'].apply(lambda x: TextBlob(x).sentiment.polarity*100)\n",
    "mac['polarity'] = mac['polarity'].round(3)\n",
    "\n",
    "mac['subjectivity'] = mac['lyrics'].apply(lambda x: TextBlob(x).sentiment.subjectivity*100)\n",
    "mac['subjectivity'] = mac['subjectivity'].round(3)\n",
    "\n",
    "mac['Positive_Score'] = mac['lyrics'].apply(lambda x: analyzer.polarity_scores(x)['pos']*100)\n",
    "mac['Negative_Score'] = mac['lyrics'].apply(lambda x: analyzer.polarity_scores(x)['neg']*100)\n",
    "mac['Neutral_Score'] = mac['lyrics'].apply(lambda x: analyzer.polarity_scores(x)['neu']*100)\n",
    "mac['Compound_Score'] = mac['lyrics'].apply(lambda x: analyzer.polarity_scores(x)['compound']*100)\n",
    "mac = mac.sort_values('Compound_Score', ascending=False)"
   ]
  },
  {
   "cell_type": "code",
   "execution_count": null,
   "id": "941b4de0",
   "metadata": {},
   "outputs": [],
   "source": [
    "# Calculate album-level metrics\n",
    "album_metrics = mac.groupby(['album']).agg({'Positive_Score': 'mean', \n",
    "                                            'Negative_Score': 'mean', \n",
    "                                            'Neutral_Score': 'mean', \n",
    "                                            'Compound_Score': 'mean'})\n",
    "\n",
    "# Calculate overall average\n",
    "overall_average = mac[['Positive_Score', 'Negative_Score', 'Neutral_Score', 'Compound_Score']].mean()\n",
    "\n",
    "# Calculate relative difference\n",
    "relative_difference = (album_metrics - overall_average) / overall_average"
   ]
  },
  {
   "cell_type": "code",
   "execution_count": null,
   "id": "ec9fa100",
   "metadata": {
    "scrolled": true
   },
   "outputs": [],
   "source": [
    "compound_sort = album_metrics.sort_values(by=['Compound_Score'], ascending = False)\n",
    "positive_sort = album_metrics.sort_values(by=['Positive_Score'], ascending = False)\n",
    "negative_sort = album_metrics.sort_values(by=['Negative_Score'], ascending = False)\n",
    "neutral_sort = album_metrics.sort_values(by=['Neutral_Score'], ascending = False)\n",
    "\n",
    "album_metrics['Variability'] = abs(album_metrics['Positive_Score'] - album_metrics['Negative_Score'])"
   ]
  },
  {
   "cell_type": "code",
   "execution_count": null,
   "id": "4f925ee9",
   "metadata": {},
   "outputs": [],
   "source": [
    "mac.to_csv(f\"data/MM_AllSongs_sentiment.csv\", index = False)\n",
    "album_metrics = album_metrics.reset_index()\n",
    "album_metrics.to_csv(f\"data/MM_Albums_sentiment.csv\", index = False)"
   ]
  },
  {
   "cell_type": "markdown",
   "id": "0877e11d",
   "metadata": {},
   "source": [
    "### Appendix"
   ]
  },
  {
   "cell_type": "code",
   "execution_count": null,
   "id": "190c0bf8",
   "metadata": {},
   "outputs": [],
   "source": [
    "# mac = genius.search_artist('Mac Miller', max_songs = 0)\n",
    "# artist = genius.search_artist(\"Mac Miller\", max_songs=3, sort=\"title\", include_features=False)\n",
    "\n",
    "# mac = genius.search_artist('Mac Miller')\n",
    "# mac.save_lyrics()\n",
    "# artist.songs[1].title_with_featured\n",
    "\n",
    "# song = artist.song(\"So it Goes\")\n",
    "# # song = genius.search_song(\"To You\", artist.name)\n",
    "# print(song.lyrics)\n",
    "\n",
    "# artist.add_song(song)\n",
    "# # artist.save_lyrics()\n",
    "\n",
    "# print(artist)\n",
    "\n",
    "# artist.name\n",
    "\n",
    "# album = genius.search_album(\"Swimming\", artist.name)\n",
    "# album.save_lyrics()\n",
    "\n",
    "# dir(album)\n",
    "\n",
    "# x = album.tracks[1]\n",
    "# x.save_lyrics()"
   ]
  },
  {
   "cell_type": "code",
   "execution_count": null,
   "id": "ab28205e",
   "metadata": {},
   "outputs": [],
   "source": []
  }
 ],
 "metadata": {
  "kernelspec": {
   "display_name": "Python 3 (ipykernel)",
   "language": "python",
   "name": "python3"
  },
  "language_info": {
   "codemirror_mode": {
    "name": "ipython",
    "version": 3
   },
   "file_extension": ".py",
   "mimetype": "text/x-python",
   "name": "python",
   "nbconvert_exporter": "python",
   "pygments_lexer": "ipython3",
   "version": "3.7.16"
  }
 },
 "nbformat": 4,
 "nbformat_minor": 5
}
